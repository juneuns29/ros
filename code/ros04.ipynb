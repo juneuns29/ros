{
 "cells": [
  {
   "cell_type": "code",
   "execution_count": 1,
   "metadata": {},
   "outputs": [
    {
     "name": "stdout",
     "output_type": "stream",
     "text": [
      "Package               Version\n",
      "--------------------- ------------\n",
      "appnope               0.1.3\n",
      "asttokens             2.4.1\n",
      "backcall              0.2.0\n",
      "comm                  0.2.1\n",
      "debugpy               1.8.0\n",
      "decorator             5.1.1\n",
      "executing             2.0.1\n",
      "importlib-metadata    7.0.1\n",
      "ipykernel             6.28.0\n",
      "ipython               8.12.3\n",
      "jedi                  0.19.1\n",
      "jupyter_client        8.6.0\n",
      "jupyter_core          5.7.1\n",
      "matplotlib-inline     0.1.6\n",
      "nest-asyncio          1.5.8\n",
      "numpy                 1.24.4\n",
      "opencv-contrib-python 4.9.0.80\n",
      "opencv-python         4.9.0.80\n",
      "packaging             23.2\n",
      "pandas                2.0.3\n",
      "parso                 0.8.3\n",
      "pexpect               4.9.0\n",
      "pickleshare           0.7.5\n",
      "pip                   23.3.2\n",
      "platformdirs          4.1.0\n",
      "prompt-toolkit        3.0.43\n",
      "psutil                5.9.7\n",
      "ptyprocess            0.7.0\n",
      "pure-eval             0.2.2\n",
      "Pygments              2.17.2\n",
      "python-dateutil       2.8.2\n",
      "pytz                  2023.3.post1\n",
      "pyzmq                 25.1.2\n",
      "setuptools            56.0.0\n",
      "six                   1.16.0\n",
      "stack-data            0.6.3\n",
      "tornado               6.4\n",
      "traitlets             5.14.1\n",
      "typing_extensions     4.9.0\n",
      "tzdata                2023.4\n",
      "wcwidth               0.2.13\n",
      "zipp                  3.17.0\n"
     ]
    }
   ],
   "source": [
    "!pip list"
   ]
  },
  {
   "cell_type": "code",
   "execution_count": 1,
   "metadata": {},
   "outputs": [
    {
     "ename": "",
     "evalue": "",
     "output_type": "error",
     "traceback": [
      "\u001b[1;31mThe Kernel crashed while executing code in the the current cell or a previous cell. Please review the code in the cell(s) to identify a possible cause of the failure. Click <a href='https://aka.ms/vscodeJupyterKernelCrash'>here</a> for more info. View Jupyter <a href='command:jupyter.viewOutput'>log</a> for further details."
     ]
    }
   ],
   "source": [
    "import cv2\n",
    "\n",
    "img = cv2.imread('../data/images/bookIcon.png', cv2.IMREAD_COLOR)\n",
    "cv2.imshow('Image Processing', img)\n",
    "\n",
    "cv2.waitKey(0)\n",
    "cv2.destroyAllWindows()"
   ]
  },
  {
   "cell_type": "code",
   "execution_count": null,
   "metadata": {},
   "outputs": [],
   "source": []
  }
 ],
 "metadata": {
  "kernelspec": {
   "display_name": "py3.8",
   "language": "python",
   "name": "python3"
  },
  "language_info": {
   "codemirror_mode": {
    "name": "ipython",
    "version": 3
   },
   "file_extension": ".py",
   "mimetype": "text/x-python",
   "name": "python",
   "nbconvert_exporter": "python",
   "pygments_lexer": "ipython3",
   "version": "3.8.10"
  }
 },
 "nbformat": 4,
 "nbformat_minor": 2
}
